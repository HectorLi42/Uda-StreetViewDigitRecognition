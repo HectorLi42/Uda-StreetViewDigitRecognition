{
 "cells": [
  {
   "cell_type": "code",
   "execution_count": 1,
   "metadata": {
    "collapsed": false
   },
   "outputs": [
    {
     "name": "stdout",
     "output_type": "stream",
     "text": [
      "/Users/hanjialu\n"
     ]
    }
   ],
   "source": [
    "cd"
   ]
  },
  {
   "cell_type": "code",
   "execution_count": 4,
   "metadata": {
    "collapsed": false
   },
   "outputs": [],
   "source": [
    "import tensorflow as tf\n",
    "import scipy.io\n",
    "import numpy as np\n",
    "# import matplotlib.pyplot as plt\n",
    "import time\n",
    "\n",
    "# % matplotlib inline"
   ]
  },
  {
   "cell_type": "code",
   "execution_count": 5,
   "metadata": {
    "collapsed": true
   },
   "outputs": [],
   "source": [
    "# Remember change to your own path\n",
    "\n",
    "path = \"Documents/p5/data/\"\n",
    "train = scipy.io.loadmat(path + 'train_32x32.mat')\n",
    "test = scipy.io.loadmat(path + 'test_32x32.mat')\n",
    "\n",
    "x_train = train['X']\n",
    "y_train = train['y']\n",
    "x_test = test['X']\n",
    "y_test = test['y']"
   ]
  },
  {
   "cell_type": "code",
   "execution_count": 6,
   "metadata": {
    "collapsed": true
   },
   "outputs": [],
   "source": [
    "# Reshape the training data and testing data\n",
    "\n",
    "def reformat(data):\n",
    "    lenth = data['X'].shape[3]\n",
    "    X_train = []\n",
    "    y_train = np.zeros((lenth,10))\n",
    "    \n",
    "    for i in range(lenth):\n",
    "        X_train.append(data['X'][:,:,:,i])\n",
    "        y_train[i][data['y'][i]%10] = 1\n",
    "    \n",
    "    return np.array(X_train).astype('float32') ,np.array(y_train).astype('float32')"
   ]
  },
  {
   "cell_type": "code",
   "execution_count": 7,
   "metadata": {
    "collapsed": true
   },
   "outputs": [],
   "source": [
    "X_train,y_train = reformat(train)\n",
    "X_test,y_test = reformat(test)"
   ]
  },
  {
   "cell_type": "code",
   "execution_count": 8,
   "metadata": {
    "collapsed": true
   },
   "outputs": [],
   "source": [
    "\"\"\"\n",
    "Various Hyperparameters required for training the CNN.\n",
    "\"\"\"\n",
    "image_size = 32\n",
    "width = 32\n",
    "height = 32\n",
    "channels = 3\n",
    "\n",
    "n_labels = 10\n",
    "patch = 5\n",
    "depth = 16\n",
    "hidden = 128"
   ]
  },
  {
   "cell_type": "code",
   "execution_count": 9,
   "metadata": {
    "collapsed": false
   },
   "outputs": [],
   "source": [
    "\"\"\"\n",
    "Constructing the placeholders and variables in the TensorFlow Graph\n",
    "\"\"\"\n",
    "#Training Dataset\n",
    "tf_train_dataset = tf.placeholder(tf.float32, shape=(None, width, height, channels))\n",
    "#Training Labels\n",
    "tf_train_labels = tf.placeholder(tf.float32, shape=(None, n_labels))\n",
    "#Testing Dataset\n",
    "tf_test_dataset = tf.constant(X_test)\n",
    "\n",
    "#   Layer 1: (5, 5, 3, 16)\n",
    "layer1_weights = tf.Variable(tf.truncated_normal([patch, patch, channels, depth], stddev=0.1))\n",
    "layer1_biases = tf.Variable(tf.constant(1.0, shape=[depth]))\n",
    "\n",
    "#   Layer 2: (5, 5, 16, 16)\n",
    "layer2_weights = tf.Variable(tf.truncated_normal([patch, patch, depth, depth], stddev=0.1))\n",
    "layer2_biases = tf.Variable(tf.constant(1.0, shape=[depth]))\n",
    "\n",
    "#   Layer 3: (1024, 128)\n",
    "layer3_weights = tf.Variable(tf.truncated_normal([image_size // 4 * image_size // 4 * depth, hidden], stddev=0.1))\n",
    "layer3_biases = tf.Variable(tf.constant(1.0, shape=[hidden]))\n",
    "\n",
    "#   Layer 4: (128, 10)\n",
    "layer4_weights = tf.Variable(tf.truncated_normal([hidden, n_labels], stddev=0.1))\n",
    "layer4_biases = tf.Variable(tf.constant(1.0, shape=[n_labels]))\n",
    "\n",
    "dropout = tf.placeholder(tf.float32)"
   ]
  },
  {
   "cell_type": "code",
   "execution_count": 10,
   "metadata": {
    "collapsed": true
   },
   "outputs": [],
   "source": [
    "def accuracy(predictions, labels):\n",
    "    return (100.0 * np.sum(np.argmax(predictions, 1) == np.argmax(labels, 1))\n",
    "          / predictions.shape[0])"
   ]
  },
  {
   "cell_type": "code",
   "execution_count": 11,
   "metadata": {
    "collapsed": false
   },
   "outputs": [],
   "source": [
    "def model(data):\n",
    "    #   Convolution 1 and RELU\n",
    "    conv1 = tf.nn.conv2d(data, layer1_weights, [1, 1, 1, 1], padding='SAME')\n",
    "    hidden1 = tf.nn.relu(conv1 + layer1_biases)\n",
    "    #   Max Pool\n",
    "    hidden2 = tf.nn.max_pool(hidden1, ksize=[1, 2, 2, 1], strides=[1, 2, 2, 1], padding='SAME')\n",
    "    #   Convolution 2 and RELU\n",
    "    conv2 = tf.nn.conv2d(hidden2, layer2_weights, [1, 1, 1, 1], padding='SAME')\n",
    "    hidden3 = tf.nn.relu(conv2 + layer2_biases)\n",
    "    #   Max Pool\n",
    "    hidden4 = tf.nn.max_pool(hidden3, ksize=[1, 2, 2, 1], strides=[1, 2, 2, 1], padding='SAME')\n",
    "\n",
    "    shape = hidden4.get_shape().as_list()\n",
    "\n",
    "    reshape = tf.reshape(hidden4, [-1, shape[1] * shape[2] * shape[3]])\n",
    "    hidden5 = tf.nn.relu(tf.matmul(reshape, layer3_weights) + layer3_biases)\n",
    "    #   Dropout\n",
    "    dropout_layer = tf.nn.dropout(hidden5, 0.93)\n",
    "\n",
    "    return tf.matmul(dropout_layer, layer4_weights) + layer4_biases\n",
    "\n",
    "logits = model(tf_train_dataset)\n",
    "loss = tf.reduce_mean(tf.nn.softmax_cross_entropy_with_logits(logits, tf_train_labels))\n",
    "optimizer = tf.train.AdamOptimizer(0.001).minimize(loss)\n",
    "\n",
    "train_prediction = tf.nn.softmax(logits)\n",
    "test_prediction = tf.nn.softmax(model(tf_test_dataset))"
   ]
  },
  {
   "cell_type": "code",
   "execution_count": 12,
   "metadata": {
    "collapsed": true
   },
   "outputs": [],
   "source": [
    "# Parameters\n",
    "\n",
    "drop_out = 0.5\n",
    "\n",
    "batch = 16\n",
    "learning_rate = 0.001\n",
    "num_steps = 60"
   ]
  },
  {
   "cell_type": "code",
   "execution_count": 17,
   "metadata": {
    "collapsed": true
   },
   "outputs": [],
   "source": [
    "# transfer one hot expression to number\n",
    "\n",
    "def oneHotToNumber(lists):\n",
    "    nums = [i for li in lists for i in range(10) if li[i] == 1]\n",
    "    return nums"
   ]
  },
  {
   "cell_type": "code",
   "execution_count": 14,
   "metadata": {
    "collapsed": false
   },
   "outputs": [],
   "source": [
    "saver = tf.train.Saver()"
   ]
  },
  {
   "cell_type": "code",
   "execution_count": 43,
   "metadata": {
    "collapsed": false
   },
   "outputs": [],
   "source": [
    "# from scipy.misc import imread, imsave, imresize\n",
    "# # get the picture for local folder\n",
    "# path = \"Documents/P5/\"\n",
    "# img = imread(path+'4.png')[:,:,:3]\n",
    "# img = imresize(img, (32, 32))\n",
    "\n",
    "# Predict\n",
    "path = \"Documents/p5/Model/Model2/\"\n",
    "\n",
    "sess=tf.Session()\n",
    "new_saver = tf.train.import_meta_graph(path+'my-model.meta')\n",
    "new_saver.restore(sess, path+'my-model')\n"
   ]
  },
  {
   "cell_type": "code",
   "execution_count": 63,
   "metadata": {
    "collapsed": false
   },
   "outputs": [
    {
     "name": "stdout",
     "output_type": "stream",
     "text": [
      "0.00597405433655\n",
      "[2]\n"
     ]
    }
   ],
   "source": [
    "from scipy.misc import imread, imsave, imresize\n",
    "import time\n",
    "# get the picture for local folder\n",
    "path = \"Desktop/\"\n",
    "img = imread(path+'2.png')[:,:,:3]/128.0-1\n",
    "\n",
    "t0 = time.time()\n",
    "img = imresize(img, (32, 32))\n",
    "\n",
    "feed_dict = {tf_train_dataset : [img]}\n",
    "classification = sess.run(train_prediction, feed_dict)\n",
    "print time.time()-t0\n",
    "print oneHotToNumber(classification)\n"
   ]
  },
  {
   "cell_type": "code",
   "execution_count": null,
   "metadata": {
    "collapsed": false
   },
   "outputs": [],
   "source": []
  },
  {
   "cell_type": "code",
   "execution_count": null,
   "metadata": {
    "collapsed": true
   },
   "outputs": [],
   "source": []
  }
 ],
 "metadata": {
  "anaconda-cloud": {},
  "kernelspec": {
   "display_name": "Python [Root]",
   "language": "python",
   "name": "Python [Root]"
  },
  "language_info": {
   "codemirror_mode": {
    "name": "ipython",
    "version": 2
   },
   "file_extension": ".py",
   "mimetype": "text/x-python",
   "name": "python",
   "nbconvert_exporter": "python",
   "pygments_lexer": "ipython2",
   "version": "2.7.12"
  }
 },
 "nbformat": 4,
 "nbformat_minor": 0
}
