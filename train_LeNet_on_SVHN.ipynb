{
 "cells": [
  {
   "cell_type": "markdown",
   "metadata": {},
   "source": [
    "## Step 1 import necessary module and load data"
   ]
  },
  {
   "cell_type": "code",
   "execution_count": null,
   "metadata": {
    "collapsed": true
   },
   "outputs": [],
   "source": [
    "import os\n",
    "import pandas as pd\n",
    "import numpy as np\n",
    "%matplotlib inline\n",
    "import matplotlib.pyplot as plt\n",
    "from IPython.display import display\n",
    "\n",
    "\n",
    "# Remember change to your own path\n",
    "path = \"Documents/p5/data/\"\n",
    "train = scipy.io.loadmat(path + 'train_32x32.mat')\n",
    "test = scipy.io.loadmat(path + 'test_32x32.mat')\n",
    "\n",
    "x_train = train['X']\n",
    "y_train = train['y']\n",
    "x_test = test['X']\n",
    "y_test = test['y']"
   ]
  },
  {
   "cell_type": "markdown",
   "metadata": {},
   "source": [
    "## Step 2 pickup several training data, plot them out to check image quality"
   ]
  },
  {
   "cell_type": "code",
   "execution_count": null,
   "metadata": {
    "collapsed": true
   },
   "outputs": [],
   "source": [
    "# Some image is very blur, like this one \n",
    "im = x_train.T[890].T.reshape(32,32,3)\n",
    "\n",
    "plt.imshow(im)\n",
    "plt.show()\n",
    "\n",
    "print y_train[1667]\n",
    "print x_train.shape"
   ]
  },
  {
   "cell_type": "code",
   "execution_count": null,
   "metadata": {
    "collapsed": true
   },
   "outputs": [],
   "source": [
    "# Reshape the training data and testing data\n",
    "def reformat(data):\n",
    "    lenth = data['X'].shape[3]\n",
    "    X_train = []\n",
    "    y_train = np.zeros((lenth,10))\n",
    "    \n",
    "    for i in range(lenth):\n",
    "        X_train.append(data['X'][:,:,:,i])\n",
    "        y_train[i][data['y'][i]%10] = 1\n",
    "    \n",
    "    return np.array(X_train).astype('float32') ,np.array(y_train).astype('float32')\n",
    "\n",
    "X_train,y_train = reformat(train)\n",
    "X_test,y_test = reformat(test)"
   ]
  },
  {
   "cell_type": "code",
   "execution_count": null,
   "metadata": {
    "collapsed": true
   },
   "outputs": [],
   "source": [
    "## check image is still good after reshape\n",
    "img = X_train[42,:,:,:]\n",
    "plt.imshow(img)\n",
    "plt.show()\n",
    "\n",
    "y_train[42]"
   ]
  },
  {
   "cell_type": "code",
   "execution_count": null,
   "metadata": {
    "collapsed": true
   },
   "outputs": [],
   "source": [
    "plt.figure(figsize = (30,20))\n",
    "\n",
    "for i in range(50):\n",
    "    plt.subplot(5,10,1+i)\n",
    "    plt.axis('off')\n",
    "    plt.imshow(X_train[i*5,:,:,:],cmap='Greys')"
   ]
  },
  {
   "cell_type": "markdown",
   "metadata": {},
   "source": [
    "## Step 3 build up LeNet graph"
   ]
  },
  {
   "cell_type": "code",
   "execution_count": null,
   "metadata": {
    "collapsed": true
   },
   "outputs": [],
   "source": [
    "\"\"\"\n",
    "Various Hyperparameters required for training the CNN.\n",
    "\"\"\"\n",
    "image_size = 32\n",
    "width = 32\n",
    "height = 32\n",
    "channels = 3\n",
    "\n",
    "n_labels = 10\n",
    "patch = 5\n",
    "depth = 16\n",
    "hidden = 128"
   ]
  },
  {
   "cell_type": "code",
   "execution_count": null,
   "metadata": {
    "collapsed": true
   },
   "outputs": [],
   "source": [
    "def accuracy(predictions, labels):\n",
    "    return (100.0 * np.sum(np.argmax(predictions, 1) == np.argmax(labels, 1))\n",
    "          / predictions.shape[0])"
   ]
  },
  {
   "cell_type": "code",
   "execution_count": null,
   "metadata": {
    "collapsed": true
   },
   "outputs": [],
   "source": [
    "def model(data):\n",
    "    #   Convolution 1 and RELU\n",
    "    conv1 = tf.nn.conv2d(data, layer1_weights, [1, 1, 1, 1], padding='SAME')\n",
    "    hidden1 = tf.nn.relu(conv1 + layer1_biases)\n",
    "    #   Max Pool\n",
    "    hidden2 = tf.nn.max_pool(hidden1, ksize=[1, 2, 2, 1], strides=[1, 2, 2, 1], padding='SAME')\n",
    "    #   Convolution 2 and RELU\n",
    "    conv2 = tf.nn.conv2d(hidden2, layer2_weights, [1, 1, 1, 1], padding='SAME')\n",
    "    hidden3 = tf.nn.relu(conv2 + layer2_biases)\n",
    "    #   Max Pool\n",
    "    hidden4 = tf.nn.max_pool(hidden3, ksize=[1, 2, 2, 1], strides=[1, 2, 2, 1], padding='SAME')\n",
    "\n",
    "    shape = hidden4.get_shape().as_list()\n",
    "\n",
    "    reshape = tf.reshape(hidden4, [-1, shape[1] * shape[2] * shape[3]])\n",
    "    hidden5 = tf.nn.relu(tf.matmul(reshape, layer3_weights) + layer3_biases)\n",
    "    #   Dropout\n",
    "    dropout_layer = tf.nn.dropout(hidden5, 0.93)\n",
    "\n",
    "    return tf.matmul(dropout_layer, layer4_weights) + layer4_biases\n",
    "\n",
    "logits = model(tf_train_dataset)\n",
    "loss = tf.reduce_mean(tf.nn.softmax_cross_entropy_with_logits(logits, tf_train_labels))\n",
    "optimizer = tf.train.AdamOptimizer(0.001).minimize(loss)\n",
    "\n",
    "train_prediction = tf.nn.softmax(logits)\n",
    "test_prediction = tf.nn.softmax(model(tf_test_dataset))"
   ]
  },
  {
   "cell_type": "markdown",
   "metadata": {},
   "source": [
    "## Step 4 Train this network and save the final model to hardisk"
   ]
  },
  {
   "cell_type": "code",
   "execution_count": null,
   "metadata": {
    "collapsed": true
   },
   "outputs": [],
   "source": [
    "t0 = time.time()\n",
    "#   Number of iterations\n",
    "saver = tf.train.Saver()\n",
    "\n",
    "with tf.Session() as session:\n",
    "    tf.initialize_all_variables().run()\n",
    "    print('Initialized')\n",
    "    average = 0\n",
    "    for step in range(num_steps):\n",
    "        #   Constucting the batch from the data set\n",
    "        offset = (step * batch) % (y_train.shape[0] - batch)\n",
    "        batch_data = X_train[offset:(offset + batch), :, :, :]\n",
    "        batch_labels = y_train[offset:(offset + batch), :]\n",
    "        #   Dictionary to be fed to TensorFlow Session\n",
    "        feed_dict = {tf_train_dataset : batch_data, tf_train_labels : batch_labels, dropout: drop_out}\n",
    "        _, l, predictions = session.run([optimizer, loss, train_prediction], feed_dict=feed_dict)\n",
    "        #   Calculating the Accuracy of the predictions\n",
    "        accu = accuracy(predictions, batch_labels)\n",
    "        if (step % 50 == 0):\n",
    "            print('Minibatch loss at step %d: %f' % (step, l))\n",
    "            print('Minibatch accuracy: %.1f%%' % accu)\n",
    "        average += accu\n",
    "    print \"Average Accuracy : \", (average / num_steps)\n",
    "    print \"END OF TRAINING\"\n",
    "    average = 0\n",
    "    for step in range(num_steps):\n",
    "        #   Constucting the batch from the data set\n",
    "        offset = (step * batch) % (y_test.shape[0] - batch)\n",
    "        batch_data = X_test[offset:(offset + batch), :, :, :]\n",
    "        batch_labels = y_test[offset:(offset + batch), :]\n",
    "        #   Dictionary to be fed to TensorFlow Session\n",
    "        feed_dict = {tf_train_dataset : batch_data, tf_train_labels : batch_labels, dropout: drop_out}\n",
    "        _, l, predictions = session.run([optimizer, loss, train_prediction], feed_dict=feed_dict)\n",
    "        #   Calculating the Accuracy of the predictions\n",
    "        accu = accuracy(predictions, batch_labels)\n",
    "        if (step % 50 == 0):\n",
    "            print('Minibatch loss at step %d: %f' % (step, l))\n",
    "            print('Minibatch accuracy: %.1f%%' % accu)\n",
    "        average += accu\n",
    "    print \"Average Accuracy : \", (average / num_steps)\n",
    "    print \"END OF TESTING\"\n",
    "    feed_dict = {tf_train_dataset : [img]}\n",
    "    classification = session.run(train_prediction, feed_dict)\n",
    "    print classification\n",
    "    save_path = saver.save(session, \"model.ckpt\")\n",
    "\n",
    "print \"Training time: \" + str(time.time()-t0)"
   ]
  }
 ],
 "metadata": {
  "kernelspec": {
   "display_name": "Python [Root]",
   "language": "python",
   "name": "Python [Root]"
  },
  "language_info": {
   "codemirror_mode": {
    "name": "ipython",
    "version": 2
   },
   "file_extension": ".py",
   "mimetype": "text/x-python",
   "name": "python",
   "nbconvert_exporter": "python",
   "pygments_lexer": "ipython2",
   "version": "2.7.12"
  }
 },
 "nbformat": 4,
 "nbformat_minor": 0
}
